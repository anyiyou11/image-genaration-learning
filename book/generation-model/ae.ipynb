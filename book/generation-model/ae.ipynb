{
 "cells": [
  {
   "cell_type": "code",
   "execution_count": null,
   "metadata": {},
   "outputs": [],
   "source": [
    "# Install the necessary dependencies\n",
    "\n",
    "import os\n",
    "import sys\n",
    "!{sys.executable} -m pip install --quiet pandas scikit-learn numpy matplotlib jupyterlab_myst ipython tensorflow_addons opencv-python requests"
   ]
  },
  {
   "cell_type": "markdown",
   "metadata": {},
   "source": [
    "---\n",
    "license:\n",
    "    code: MIT\n",
    "    content: CC-BY-4.0\n",
    "github: https://github.com/ocademy-ai/machine-learning\n",
    "venue: By Ocademy\n",
    "open_access: true\n",
    "bibliography:\n",
    "  - https://raw.githubusercontent.com/ocademy-ai/machine-learning/main/open-machine-learning-jupyter-book/references.bib\n",
    "---"
   ]
  },
  {
   "cell_type": "markdown",
   "metadata": {},
   "source": [
    "# AUTOENCODERS"
   ]
  },
  {
   "cell_type": "markdown",
   "metadata": {},
   "source": [
    "## Overview\n",
    "\n",
    "An autoencoder, also known as autoassociator or Diabolo networks, is an artificial neural network employed to recreate the given input. It takes a set of <b>unlabeled</b> inputs, encodes them and then tries to extract the most valuable information from them. They are used for feature extraction, learning generative models of data, dimensionality reduction and can be used for compression. \n",
    "\n",
    "Autoencoders are based on Restricted Boltzmann Machines, are employed in some of the largest deep learning applications. They are the building blocks of Deep Belief Networks (DBN).\n",
    "\n",
    "<img src=\"https://static-1300131294.cos.ap-shanghai.myqcloud.com/images/deep-learning/VAE/mod_ID_13_final.png\" width=400>"
   ]
  },
  {
   "cell_type": "markdown",
   "metadata": {},
   "source": [
    "## Autoencoder Structure \n",
    "\n",
    "<img src=\"https://static-1300131294.cos.ap-shanghai.myqcloud.com/images/deep-learning/VAE/deep_autoencoder.png\">\n",
    "\n",
    "An autoencoder can be divided in two parts, the <b>encoder</b> and the <b>decoder</b>.\n",
    "\n",
    "The encoder needs to compress the representation of an input. In this case we are going to reduce the dimension. The decoder works like encoder network in reverse. It works to recreate the input, as closely as possible. This plays an important role during training, because it forces the autoencoder to select the most important features in the compressed representation."
   ]
  },
  {
   "cell_type": "markdown",
   "metadata": {
    "jp-MarkdownHeadingCollapsed": true
   },
   "source": [
    "<h2>Training: Loss function</h2>\n",
    "\n",
    "An autoencoder uses the Loss function to properly train the network. The Loss function will calculate the differences between our output and the expected results. After that, we can minimize this error with gradient descent. There are more than one type of Loss function, it depends on the type of data.The following is the formula for binary values.\n",
    "\n",
    "$$l(f(x)) = - \\sum_{k} (x_k log(\\hat{x}_k) + (1 - x_k) \\log (1 - \\hat{x}_k) \\ )$$\n",
    "\n",
    "For binary values, we can use an equation based on the sum of Bernoulli's cross-entropy.  $x_k$ is one of our inputs and $\\hat{x}_k$ is the respective output. We use this function so that if $x_k$ equals to one, we want to push $\\hat{x}_k$ as close as possible to one. The same if $x_k$ equals to zero. If the value is one, we just need to calculate the first part of the formula, that is, $- x_k log(\\hat{x}_k)$. Which, turns out to just calculate $- log(\\hat{x}_k)$. And if the value is zero, we need to calculate just the second part, $(1 - x_k) \\log (1 - \\hat{x}_k) \\ )$ - which turns out to be $log (1 - \\hat{x}_k) $.The following is the formula for real values.\n",
    "\n",
    "$$l(f(x)) = - \\frac{1}{2}\\sum_{k} (\\hat{x}_k- x_k \\ )^2$$\n",
    "\n",
    "As the above function would behave badly with inputs that are not 0 or 1, we can use the sum of squared differences for our Loss function.\n",
    "\n",
    "As it was with the above example, $x_k$ is one of our inputs and $\\hat{x}_k$ is the respective output, and we want to make our output as similar as possible to our input."
   ]
  },
  {
   "cell_type": "markdown",
   "metadata": {},
   "source": [
    "## Code"
   ]
  },
  {
   "cell_type": "code",
   "execution_count": 1,
   "metadata": {},
   "outputs": [],
   "source": [
    "import numpy as np\n",
    "import matplotlib.pyplot as plt\n",
    "import tensorflow as tf\n",
    "import tensorflow.keras as kr\n",
    "%matplotlib inline"
   ]
  },
  {
   "cell_type": "markdown",
   "metadata": {},
   "source": [
    "Now, let's give the parameters that are going to be used by our NN."
   ]
  },
  {
   "cell_type": "code",
   "execution_count": 2,
   "metadata": {},
   "outputs": [],
   "source": [
    "# MNIST Dataset parameters.\n",
    "num_features = 784 # data features (img shape: 28*28).\n",
    "\n",
    "# Training parameters.\n",
    "batch_size = 128\n",
    "epochs = 50\n",
    "\n",
    "# Network Parameters\n",
    "hidden_1 = 128 # 1st layer num features.\n",
    "hidden_2 = 64 # 2nd layer num features (the latent dim)."
   ]
  },
  {
   "cell_type": "code",
   "execution_count": 3,
   "metadata": {},
   "outputs": [],
   "source": [
    "from tensorflow.keras.datasets import mnist, fashion_mnist\n",
    "\n",
    "def load_data(choice='mnist', labels=False):\n",
    "    if choice not in ['mnist', 'fashion_mnist']:\n",
    "        raise ('Choices are mnist and fashion_mnist')\n",
    "    \n",
    "    if choice is 'mnist':\n",
    "        (X_train, y_train), (X_test, y_test) = mnist.load_data()\n",
    "    else:\n",
    "        (X_train, y_train), (X_test, y_test) = fashion_mnist.load_data()\n",
    "    \n",
    "    X_train, X_test = X_train / 255., X_test / 255.\n",
    "    X_train, X_test = X_train.reshape([-1, 784]), X_test.reshape([-1, 784])\n",
    "    X_train = X_train.astype(np.float32, copy=False)\n",
    "    X_test = X_test.astype(np.float32, copy=False)\n",
    "    \n",
    "    if labels:\n",
    "        return (X_train, y_train), (X_test, y_test)\n",
    "    \n",
    "    return X_train, X_test\n",
    "\n",
    "\n",
    "def plot_predictions(y_true, y_pred):    \n",
    "    f, ax = plt.subplots(2, 10, figsize=(15, 4))\n",
    "    for i in range(10):\n",
    "        ax[0][i].imshow(np.reshape(y_true[i], (28, 28)), aspect='auto')\n",
    "        ax[1][i].imshow(np.reshape(y_pred[i], (28, 28)), aspect='auto')\n",
    "    plt.tight_layout()"
   ]
  },
  {
   "cell_type": "code",
   "execution_count": 4,
   "metadata": {},
   "outputs": [],
   "source": [
    "def plot_digits(X, y, encoder, batch_size=128):\n",
    "    \"\"\"Plots labels and MNIST digits as function of 2D latent vector\n",
    "\n",
    "    Parameters:\n",
    "    ----------\n",
    "    encoder: Model\n",
    "        A Keras Model instance\n",
    "    X: np.ndarray\n",
    "        Test data\n",
    "    y: np.ndarray\n",
    "        Test data labels\n",
    "    batch_size: int\n",
    "        Prediction batch size\n",
    "    \"\"\"\n",
    "    # display a 2D plot of the digit classes in the latent space\n",
    "    z_mean, _, _ = encoder.predict(X, batch_size=batch_size)\n",
    "    plt.figure(figsize=(12, 10))\n",
    "    plt.scatter(z_mean[:, 0], z_mean[:, 1], c=y)\n",
    "    plt.colorbar()\n",
    "    plt.xlabel(\"z[0] Latent Dimension\")\n",
    "    plt.ylabel(\"z[1] Latent Dimension\")\n",
    "    plt.show()\n",
    "    \n",
    "    \n",
    "def generate_manifold(decoder):\n",
    "    \"\"\"Generates a manifold of MNIST digits from a random noisy data.\n",
    "\n",
    "    Parameters:\n",
    "    ----------\n",
    "    decoder: Model\n",
    "        A Keras Model instance\n",
    "    \"\"\"\n",
    "    \n",
    "    # display a 30x30 2D manifold of digits\n",
    "    n = 30\n",
    "    digit_size = 28\n",
    "    figure = np.zeros((digit_size * n, digit_size * n))\n",
    "    \n",
    "    # linearly spaced coordinates corresponding to the 2D plot\n",
    "    # of digit classes in the latent space\n",
    "    grid_x = np.linspace(-4, 4, n)\n",
    "    grid_y = np.linspace(-4, 4, n)[::-1]\n",
    "    \n",
    "    for i, yi in enumerate(grid_y):\n",
    "        for j, xi in enumerate(grid_x):\n",
    "            z_sample = np.array([[xi, yi]])\n",
    "            x_decoded = decoder.predict(z_sample)\n",
    "            digit = x_decoded[0].reshape(digit_size, digit_size)\n",
    "            figure[i * digit_size: (i + 1) * digit_size,\n",
    "                   j * digit_size: (j + 1) * digit_size] = digit        \n",
    "    \n",
    "    plt.figure(figsize=(10, 10))\n",
    "    start_range = digit_size // 2\n",
    "    end_range = n * digit_size + start_range + 1\n",
    "    pixel_range = np.arange(start_range, end_range, digit_size)\n",
    "    sample_range_x = np.round(grid_x, 1)\n",
    "    sample_range_y = np.round(grid_y, 1)\n",
    "    \n",
    "    plt.xticks(pixel_range, sample_range_x)\n",
    "    plt.yticks(pixel_range, sample_range_y)\n",
    "    plt.xlabel(\"z[0] Latent Dimension\")\n",
    "    plt.ylabel(\"z[1] Latent Dimension\")\n",
    "    plt.imshow(figure, cmap='Greys_r')\n",
    "    plt.show()"
   ]
  },
  {
   "cell_type": "markdown",
   "metadata": {},
   "source": [
    "This code contains two functions, `plot_digits` and `generate_manifold`, for visualizing the performance of an autoencoder in the latent space. `plot_digits` function transforms test data into mean vectors in the latent space through an encoder and displays the distribution of these vectors on a two-dimensional plane, allowing observation of the distribution of different classes of data in the latent space. `generate_manifold` function generates a two-dimensional plane, maps it back to the data space, and generates corresponding MNIST digits for visualization, showing the digit features corresponding to different positions in the latent space. These functions help understand how the autoencoder learns data representations and effectively represents and generates data in the latent space.\n",
    "\n",
    "Now we need to create our encoder/decoder. For this, we are going to use sigmoidal functions. Sigmoidal functions delivers great results with this type of network. This is due to having a good derivative that is well-suited to backpropagation."
   ]
  },
  {
   "cell_type": "markdown",
   "metadata": {},
   "source": [
    "**Encoder**"
   ]
  },
  {
   "cell_type": "code",
   "execution_count": 5,
   "metadata": {},
   "outputs": [
    {
     "name": "stdout",
     "output_type": "stream",
     "text": [
      "WARNING:tensorflow:From /opt/conda/lib/python3.6/site-packages/tensorflow/python/ops/resource_variable_ops.py:435: colocate_with (from tensorflow.python.framework.ops) is deprecated and will be removed in a future version.\n",
      "Instructions for updating:\n",
      "Colocations handled automatically by placer.\n",
      "_________________________________________________________________\n",
      "Layer (type)                 Output Shape              Param #   \n",
      "=================================================================\n",
      "input_1 (InputLayer)         (None, 784)               0         \n",
      "_________________________________________________________________\n",
      "dense (Dense)                (None, 128)               100480    \n",
      "_________________________________________________________________\n",
      "dense_1 (Dense)              (None, 64)                8256      \n",
      "=================================================================\n",
      "Total params: 108,736\n",
      "Trainable params: 108,736\n",
      "Non-trainable params: 0\n",
      "_________________________________________________________________\n"
     ]
    }
   ],
   "source": [
    "inputs = kr.Input(shape=(num_features, ))\n",
    "encoder = kr.layers.Dense(hidden_1, activation='sigmoid')(inputs)\n",
    "encoder = kr.layers.Dense(hidden_2, activation='sigmoid')(encoder)\n",
    "encoder_model = kr.Model(inputs, encoder, name='encoder')\n",
    "encoder_model.summary()"
   ]
  },
  {
   "cell_type": "markdown",
   "metadata": {},
   "source": [
    "**Decoder**"
   ]
  },
  {
   "cell_type": "code",
   "execution_count": 6,
   "metadata": {},
   "outputs": [
    {
     "name": "stdout",
     "output_type": "stream",
     "text": [
      "_________________________________________________________________\n",
      "Layer (type)                 Output Shape              Param #   \n",
      "=================================================================\n",
      "input_2 (InputLayer)         (None, 64)                0         \n",
      "_________________________________________________________________\n",
      "dense_2 (Dense)              (None, 128)               8320      \n",
      "_________________________________________________________________\n",
      "dense_3 (Dense)              (None, 784)               101136    \n",
      "=================================================================\n",
      "Total params: 109,456\n",
      "Trainable params: 109,456\n",
      "Non-trainable params: 0\n",
      "_________________________________________________________________\n"
     ]
    }
   ],
   "source": [
    "latent_dim = kr.Input(shape=(hidden_2, ))\n",
    "decoder = kr.layers.Dense(hidden_1, activation='sigmoid')(latent_dim)\n",
    "decoder = kr.layers.Dense(num_features, activation='sigmoid')(decoder)\n",
    "decoder_model = kr.Model(latent_dim, decoder, name='decoder')\n",
    "decoder_model.summary()"
   ]
  },
  {
   "cell_type": "markdown",
   "metadata": {},
   "source": [
    "**Autoencoder Model**"
   ]
  },
  {
   "cell_type": "code",
   "execution_count": 7,
   "metadata": {},
   "outputs": [
    {
     "name": "stdout",
     "output_type": "stream",
     "text": [
      "WARNING:tensorflow:From /opt/conda/lib/python3.6/site-packages/tensorflow/python/keras/utils/losses_utils.py:170: to_float (from tensorflow.python.ops.math_ops) is deprecated and will be removed in a future version.\n",
      "Instructions for updating:\n",
      "Use tf.cast instead.\n",
      "_________________________________________________________________\n",
      "Layer (type)                 Output Shape              Param #   \n",
      "=================================================================\n",
      "input_1 (InputLayer)         (None, 784)               0         \n",
      "_________________________________________________________________\n",
      "encoder (Model)              (None, 64)                108736    \n",
      "_________________________________________________________________\n",
      "decoder (Model)              (None, 784)               109456    \n",
      "=================================================================\n",
      "Total params: 218,192\n",
      "Trainable params: 218,192\n",
      "Non-trainable params: 0\n",
      "_________________________________________________________________\n"
     ]
    }
   ],
   "source": [
    "outputs = decoder_model(encoder_model(inputs))\n",
    "mnist_model = kr.Model(inputs, outputs )\n",
    "mnist_model.compile(optimizer='adam', loss='mse')\n",
    "mnist_model.summary()"
   ]
  },
  {
   "cell_type": "code",
   "execution_count": 8,
   "metadata": {
    "scrolled": true
   },
   "outputs": [
    {
     "name": "stdout",
     "output_type": "stream",
     "text": [
      "Downloading data from https://storage.googleapis.com/tensorflow/tf-keras-datasets/mnist.npz\n",
      "11493376/11490434 [==============================] - 0s 0us/step\n",
      "WARNING:tensorflow:From /opt/conda/lib/python3.6/site-packages/tensorflow/python/ops/math_ops.py:3066: to_int32 (from tensorflow.python.ops.math_ops) is deprecated and will be removed in a future version.\n",
      "Instructions for updating:\n",
      "Use tf.cast instead.\n",
      "Epoch 1/50\n",
      "60000/60000 [==============================] - 4s 71us/sample - loss: 0.0707\n",
      "Epoch 2/50\n",
      "60000/60000 [==============================] - 2s 27us/sample - loss: 0.0593\n",
      "Epoch 3/50\n",
      "60000/60000 [==============================] - 2s 27us/sample - loss: 0.0477\n",
      "Epoch 4/50\n",
      "60000/60000 [==============================] - 2s 27us/sample - loss: 0.0394\n",
      "Epoch 5/50\n",
      "60000/60000 [==============================] - 2s 28us/sample - loss: 0.0362\n",
      "Epoch 6/50\n",
      "60000/60000 [==============================] - 2s 28us/sample - loss: 0.0322\n",
      "Epoch 7/50\n",
      "60000/60000 [==============================] - 2s 28us/sample - loss: 0.0293\n",
      "Epoch 8/50\n",
      "60000/60000 [==============================] - 2s 28us/sample - loss: 0.0267\n",
      "Epoch 9/50\n",
      "60000/60000 [==============================] - 2s 28us/sample - loss: 0.0243\n",
      "Epoch 10/50\n",
      "60000/60000 [==============================] - 2s 28us/sample - loss: 0.0222\n",
      "Epoch 11/50\n",
      "60000/60000 [==============================] - 2s 28us/sample - loss: 0.0208\n",
      "Epoch 12/50\n",
      "60000/60000 [==============================] - 2s 28us/sample - loss: 0.0196\n",
      "Epoch 13/50\n",
      "60000/60000 [==============================] - 2s 28us/sample - loss: 0.0185\n",
      "Epoch 14/50\n",
      "60000/60000 [==============================] - 2s 29us/sample - loss: 0.0175\n",
      "Epoch 15/50\n",
      "60000/60000 [==============================] - 2s 29us/sample - loss: 0.0166\n",
      "Epoch 16/50\n",
      "60000/60000 [==============================] - 2s 29us/sample - loss: 0.0157\n",
      "Epoch 17/50\n",
      "60000/60000 [==============================] - 2s 29us/sample - loss: 0.0150\n",
      "Epoch 18/50\n",
      "60000/60000 [==============================] - 2s 29us/sample - loss: 0.0143\n",
      "Epoch 19/50\n",
      "60000/60000 [==============================] - 2s 29us/sample - loss: 0.0138\n",
      "Epoch 20/50\n",
      "60000/60000 [==============================] - 2s 27us/sample - loss: 0.0132\n",
      "Epoch 21/50\n",
      "60000/60000 [==============================] - 2s 28us/sample - loss: 0.0127\n",
      "Epoch 22/50\n",
      "60000/60000 [==============================] - 2s 27us/sample - loss: 0.0122\n",
      "Epoch 23/50\n",
      "60000/60000 [==============================] - 2s 28us/sample - loss: 0.0119\n",
      "Epoch 24/50\n",
      "60000/60000 [==============================] - 2s 28us/sample - loss: 0.0115\n",
      "Epoch 25/50\n",
      "60000/60000 [==============================] - 2s 27us/sample - loss: 0.0112\n",
      "Epoch 26/50\n",
      "60000/60000 [==============================] - 2s 27us/sample - loss: 0.0109\n",
      "Epoch 27/50\n",
      "60000/60000 [==============================] - 2s 27us/sample - loss: 0.0107\n",
      "Epoch 28/50\n",
      "60000/60000 [==============================] - 2s 27us/sample - loss: 0.0104\n",
      "Epoch 29/50\n",
      "60000/60000 [==============================] - 2s 27us/sample - loss: 0.0102\n",
      "Epoch 30/50\n",
      "60000/60000 [==============================] - 2s 27us/sample - loss: 0.0100\n",
      "Epoch 31/50\n",
      "60000/60000 [==============================] - 2s 27us/sample - loss: 0.0098\n",
      "Epoch 32/50\n",
      "60000/60000 [==============================] - 2s 27us/sample - loss: 0.0096\n",
      "Epoch 33/50\n",
      "60000/60000 [==============================] - 2s 27us/sample - loss: 0.0094\n",
      "Epoch 34/50\n",
      "60000/60000 [==============================] - 2s 27us/sample - loss: 0.0093\n",
      "Epoch 35/50\n",
      "60000/60000 [==============================] - 2s 27us/sample - loss: 0.0091\n",
      "Epoch 36/50\n",
      "60000/60000 [==============================] - 2s 27us/sample - loss: 0.0089\n",
      "Epoch 37/50\n",
      "60000/60000 [==============================] - 2s 27us/sample - loss: 0.0088\n",
      "Epoch 38/50\n",
      "60000/60000 [==============================] - 2s 28us/sample - loss: 0.0086\n",
      "Epoch 39/50\n",
      "60000/60000 [==============================] - 2s 27us/sample - loss: 0.0085\n",
      "Epoch 40/50\n",
      "60000/60000 [==============================] - 2s 27us/sample - loss: 0.0084\n",
      "Epoch 41/50\n",
      "60000/60000 [==============================] - 2s 28us/sample - loss: 0.0082\n",
      "Epoch 42/50\n",
      "60000/60000 [==============================] - 2s 27us/sample - loss: 0.0081\n",
      "Epoch 43/50\n",
      "60000/60000 [==============================] - 2s 28us/sample - loss: 0.0080\n",
      "Epoch 44/50\n",
      "60000/60000 [==============================] - 2s 27us/sample - loss: 0.0079\n",
      "Epoch 45/50\n",
      "60000/60000 [==============================] - 2s 27us/sample - loss: 0.0077\n",
      "Epoch 46/50\n",
      "60000/60000 [==============================] - 2s 28us/sample - loss: 0.0076\n",
      "Epoch 47/50\n",
      "60000/60000 [==============================] - 2s 27us/sample - loss: 0.0075\n",
      "Epoch 48/50\n",
      "60000/60000 [==============================] - 2s 27us/sample - loss: 0.0074\n",
      "Epoch 49/50\n",
      "60000/60000 [==============================] - 2s 28us/sample - loss: 0.0073\n",
      "Epoch 50/50\n",
      "60000/60000 [==============================] - 2s 27us/sample - loss: 0.0072\n"
     ]
    },
    {
     "data": {
      "text/plain": [
       "<tensorflow.python.keras.callbacks.History at 0x7f693164b898>"
      ]
     },
     "execution_count": 8,
     "metadata": {},
     "output_type": "execute_result"
    }
   ],
   "source": [
    "X_train, X_test = load_data('mnist')\n",
    "mnist_model.fit(x=X_train, y=X_train, batch_size=batch_size, shuffle=False, epochs=epochs)"
   ]
  },
  {
   "cell_type": "markdown",
   "metadata": {},
   "source": [
    "Let's simply visualize our graphs!"
   ]
  },
  {
   "cell_type": "code",
   "execution_count": 9,
   "metadata": {},
   "outputs": [
    {
     "data": {
      "image/png": "[encoded data removed]",
      "text/plain": [
       "<Figure size 1080x288 with 20 Axes>"
      ]
     },
     "metadata": {},
     "output_type": "display_data"
    }
   ],
   "source": [
    "y_true = X_test[:10]\n",
    "y_pred = mnist_model.predict(y_true)\n",
    "plot_predictions(y_true, y_pred)"
   ]
  },
  {
   "cell_type": "markdown",
   "metadata": {},
   "source": [
    "## Fashion MNIST\n",
    "\n",
    "Let's try our network with fashion mnist to see how well it performs."
   ]
  },
  {
   "cell_type": "code",
   "execution_count": 10,
   "metadata": {},
   "outputs": [
    {
     "name": "stdout",
     "output_type": "stream",
     "text": [
      "_________________________________________________________________\n",
      "Layer (type)                 Output Shape              Param #   \n",
      "=================================================================\n",
      "input_3 (InputLayer)         (None, 784)               0         \n",
      "_________________________________________________________________\n",
      "dense_4 (Dense)              (None, 128)               100480    \n",
      "_________________________________________________________________\n",
      "dense_5 (Dense)              (None, 64)                8256      \n",
      "=================================================================\n",
      "Total params: 108,736\n",
      "Trainable params: 108,736\n",
      "Non-trainable params: 0\n",
      "_________________________________________________________________\n",
      "_________________________________________________________________\n",
      "Layer (type)                 Output Shape              Param #   \n",
      "=================================================================\n",
      "input_4 (InputLayer)         (None, 64)                0         \n",
      "_________________________________________________________________\n",
      "dense_6 (Dense)              (None, 128)               8320      \n",
      "_________________________________________________________________\n",
      "dense_7 (Dense)              (None, 784)               101136    \n",
      "=================================================================\n",
      "Total params: 109,456\n",
      "Trainable params: 109,456\n",
      "Non-trainable params: 0\n",
      "_________________________________________________________________\n",
      "_________________________________________________________________\n",
      "Layer (type)                 Output Shape              Param #   \n",
      "=================================================================\n",
      "input_3 (InputLayer)         (None, 784)               0         \n",
      "_________________________________________________________________\n",
      "encoder (Model)              (None, 64)                108736    \n",
      "_________________________________________________________________\n",
      "decoder (Model)              (None, 784)               109456    \n",
      "=================================================================\n",
      "Total params: 218,192\n",
      "Trainable params: 218,192\n",
      "Non-trainable params: 0\n",
      "_________________________________________________________________\n"
     ]
    }
   ],
   "source": [
    "# Encoder\n",
    "inputs = kr.Input(shape=(num_features, ))\n",
    "encoder = kr.layers.Dense(hidden_1, activation='sigmoid')(inputs)\n",
    "encoder = kr.layers.Dense(hidden_2, activation='sigmoid')(encoder)\n",
    "encoder_model = kr.Model(inputs, encoder, name='encoder')\n",
    "encoder_model.summary()\n",
    "\n",
    "# Decoder\n",
    "latent_dim = kr.Input(shape=(hidden_2, ))\n",
    "decoder = kr.layers.Dense(hidden_1, activation='sigmoid')(latent_dim)\n",
    "decoder = kr.layers.Dense(num_features, activation='sigmoid')(decoder)\n",
    "decoder_model = kr.Model(latent_dim, decoder, name='decoder')\n",
    "decoder_model.summary()\n",
    "\n",
    "# AE\n",
    "outputs = decoder_model(encoder_model(inputs))\n",
    "fmnist_model = kr.Model(inputs, outputs )\n",
    "fmnist_model.compile(optimizer='adam', loss='mse')\n",
    "fmnist_model.summary()"
   ]
  },
  {
   "cell_type": "code",
   "execution_count": 11,
   "metadata": {
    "collapsed": true,
    "jupyter": {
     "outputs_hidden": true
    },
    "scrolled": true
   },
   "outputs": [
    {
     "name": "stdout",
     "output_type": "stream",
     "text": [
      "Downloading data from https://storage.googleapis.com/tensorflow/tf-keras-datasets/train-labels-idx1-ubyte.gz\n",
      "32768/29515 [=================================] - 0s 0us/step\n",
      "Downloading data from https://storage.googleapis.com/tensorflow/tf-keras-datasets/train-images-idx3-ubyte.gz\n",
      "26427392/26421880 [==============================] - 1s 0us/step\n",
      "Downloading data from https://storage.googleapis.com/tensorflow/tf-keras-datasets/t10k-labels-idx1-ubyte.gz\n",
      "8192/5148 [===============================================] - 0s 0us/step\n",
      "Downloading data from https://storage.googleapis.com/tensorflow/tf-keras-datasets/t10k-images-idx3-ubyte.gz\n",
      "4423680/4422102 [==============================] - 0s 0us/step\n",
      "Epoch 1/50\n",
      "60000/60000 [==============================] - 2s 34us/sample - loss: 0.0629\n",
      "Epoch 2/50\n",
      "60000/60000 [==============================] - 2s 31us/sample - loss: 0.0381\n",
      "Epoch 3/50\n",
      "60000/60000 [==============================] - 2s 28us/sample - loss: 0.0292\n",
      "Epoch 4/50\n",
      "60000/60000 [==============================] - 2s 29us/sample - loss: 0.0252\n",
      "Epoch 5/50\n",
      "60000/60000 [==============================] - 2s 28us/sample - loss: 0.0233\n",
      "Epoch 6/50\n",
      "60000/60000 [==============================] - 2s 28us/sample - loss: 0.0219\n",
      "Epoch 7/50\n",
      "60000/60000 [==============================] - 2s 28us/sample - loss: 0.0208\n",
      "Epoch 8/50\n",
      "60000/60000 [==============================] - 2s 27us/sample - loss: 0.0197\n",
      "Epoch 9/50\n",
      "60000/60000 [==============================] - 2s 28us/sample - loss: 0.0188\n",
      "Epoch 10/50\n",
      "60000/60000 [==============================] - 2s 28us/sample - loss: 0.0181\n",
      "Epoch 11/50\n",
      "60000/60000 [==============================] - 2s 27us/sample - loss: 0.0174\n",
      "Epoch 12/50\n",
      "60000/60000 [==============================] - 2s 28us/sample - loss: 0.0169\n",
      "Epoch 13/50\n",
      "60000/60000 [==============================] - 2s 27us/sample - loss: 0.0164\n",
      "Epoch 14/50\n",
      "60000/60000 [==============================] - 2s 27us/sample - loss: 0.0160\n",
      "Epoch 15/50\n",
      "60000/60000 [==============================] - 2s 27us/sample - loss: 0.0156\n",
      "Epoch 16/50\n",
      "60000/60000 [==============================] - 2s 28us/sample - loss: 0.0152\n",
      "Epoch 17/50\n",
      "60000/60000 [==============================] - 2s 29us/sample - loss: 0.0149\n",
      "Epoch 18/50\n",
      "60000/60000 [==============================] - 2s 28us/sample - loss: 0.0145\n",
      "Epoch 19/50\n",
      "60000/60000 [==============================] - 2s 28us/sample - loss: 0.0143\n",
      "Epoch 20/50\n",
      "60000/60000 [==============================] - 2s 27us/sample - loss: 0.0140\n",
      "Epoch 21/50\n",
      "60000/60000 [==============================] - 2s 28us/sample - loss: 0.0138\n",
      "Epoch 22/50\n",
      "60000/60000 [==============================] - 2s 28us/sample - loss: 0.0135\n",
      "Epoch 23/50\n",
      "60000/60000 [==============================] - 2s 27us/sample - loss: 0.0133\n",
      "Epoch 24/50\n",
      "60000/60000 [==============================] - 2s 28us/sample - loss: 0.0131\n",
      "Epoch 25/50\n",
      "60000/60000 [==============================] - 2s 27us/sample - loss: 0.0130\n",
      "Epoch 26/50\n",
      "60000/60000 [==============================] - 2s 28us/sample - loss: 0.0128\n",
      "Epoch 27/50\n",
      "60000/60000 [==============================] - 2s 27us/sample - loss: 0.0126\n",
      "Epoch 28/50\n",
      "60000/60000 [==============================] - 2s 27us/sample - loss: 0.0125\n",
      "Epoch 29/50\n",
      "60000/60000 [==============================] - 2s 28us/sample - loss: 0.0123\n",
      "Epoch 30/50\n",
      "60000/60000 [==============================] - 2s 28us/sample - loss: 0.0122\n",
      "Epoch 31/50\n",
      "60000/60000 [==============================] - 2s 28us/sample - loss: 0.0120\n",
      "Epoch 32/50\n",
      "60000/60000 [==============================] - 2s 28us/sample - loss: 0.0119\n",
      "Epoch 33/50\n",
      "60000/60000 [==============================] - 2s 27us/sample - loss: 0.0118\n",
      "Epoch 34/50\n",
      "60000/60000 [==============================] - 2s 28us/sample - loss: 0.0117\n",
      "Epoch 35/50\n",
      "60000/60000 [==============================] - 2s 28us/sample - loss: 0.0115\n",
      "Epoch 36/50\n",
      "60000/60000 [==============================] - 2s 28us/sample - loss: 0.0114\n",
      "Epoch 37/50\n",
      "60000/60000 [==============================] - 2s 27us/sample - loss: 0.0113\n",
      "Epoch 38/50\n",
      "60000/60000 [==============================] - 2s 27us/sample - loss: 0.0112\n",
      "Epoch 39/50\n",
      "60000/60000 [==============================] - 2s 27us/sample - loss: 0.0111\n",
      "Epoch 40/50\n",
      "60000/60000 [==============================] - 2s 27us/sample - loss: 0.0110\n",
      "Epoch 41/50\n",
      "60000/60000 [==============================] - 2s 27us/sample - loss: 0.0109\n",
      "Epoch 42/50\n",
      "60000/60000 [==============================] - 2s 27us/sample - loss: 0.0108\n",
      "Epoch 43/50\n",
      "60000/60000 [==============================] - 2s 28us/sample - loss: 0.0107\n",
      "Epoch 44/50\n",
      "60000/60000 [==============================] - 2s 27us/sample - loss: 0.0106\n",
      "Epoch 45/50\n",
      "60000/60000 [==============================] - 2s 27us/sample - loss: 0.0105\n",
      "Epoch 46/50\n",
      "60000/60000 [==============================] - 2s 27us/sample - loss: 0.0105\n",
      "Epoch 47/50\n",
      "60000/60000 [==============================] - 2s 27us/sample - loss: 0.0104\n",
      "Epoch 48/50\n",
      "60000/60000 [==============================] - 2s 28us/sample - loss: 0.0103\n",
      "Epoch 49/50\n",
      "60000/60000 [==============================] - 2s 28us/sample - loss: 0.0102\n",
      "Epoch 50/50\n",
      "60000/60000 [==============================] - 2s 28us/sample - loss: 0.0102\n"
     ]
    },
    {
     "data": {
      "text/plain": [
       "<tensorflow.python.keras.callbacks.History at 0x7f69300a9be0>"
      ]
     },
     "execution_count": 11,
     "metadata": {},
     "output_type": "execute_result"
    }
   ],
   "source": [
    "X_train, X_test = load_data('fashion_mnist')\n",
    "fmnist_model.fit(x=X_train, y=X_train, batch_size=batch_size, shuffle=False, epochs=epochs)"
   ]
  },
  {
   "cell_type": "code",
   "execution_count": 12,
   "metadata": {
    "scrolled": true
   },
   "outputs": [
    {
     "data": {
      "image/png": "[encoded data removed]",
      "text/plain": [
       "<Figure size 1080x288 with 20 Axes>"
      ]
     },
     "metadata": {},
     "output_type": "display_data"
    }
   ],
   "source": [
    "y_true = X_test[:10]\n",
    "y_pred = fmnist_model.predict(y_true)\n",
    "plot_predictions(y_true, y_pred)"
   ]
  },
  {
   "cell_type": "markdown",
   "metadata": {},
   "source": [
    "As can be seen construction was okay not perfect due to some noise in the images. Increasing layer sizes may help."
   ]
  },
  {
   "cell_type": "markdown",
   "metadata": {},
   "source": [
    "## Your turn! 🚀\n",
    "\n",
    "Assignment - [Denoising autoencoder](../assignments/base-denoising-autoencoder-dimension-reduction.ipynb)\n",
    "\n",
    "## Acknowledgments\n",
    "\n",
    "Thanks to [Fazil T](https://github.com/lordsoffallen) for creating the open-source project [kaggle](https://www.kaggle.com/) for creating the open-source courses [Variantional Autoencoders(VAE)](https://www.kaggle.com/code/fazilbtopal/variantional-autoencoders-vae). They inspire the majority of the content in this chapter."
   ]
  }
 ],
 "metadata": {
  "kernelspec": {
   "display_name": "Python 3 (ipykernel)",
   "language": "python",
   "name": "python3"
  },
  "language_info": {
   "codemirror_mode": {
    "name": "ipython",
    "version": 3
   },
   "file_extension": ".py",
   "mimetype": "text/x-python",
   "name": "python",
   "nbconvert_exporter": "python",
   "pygments_lexer": "ipython3",
   "version": "3.11.5"
  },
  "widgets": {
   "state": {},
   "version": "1.1.2"
  }
 },
 "nbformat": 4,
 "nbformat_minor": 4
}
